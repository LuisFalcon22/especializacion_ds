<<<<<<< HEAD
{
 "cells": [
  {
   "cell_type": "code",
   "execution_count": null,
   "metadata": {},
   "outputs": [],
   "source": [
    "class Usuario:\n",
    "    def __init__(self, name: str, saldo: float, excepcion: float) -> None:\n",
    "        self.name: str = name\n",
    "        self.saldo: float = saldo\n",
    "        self.excepcion: float = excepcion\n",
    "\n",
    "    def get_name(self) -> str:\n",
    "        return self.name\n",
    "\n",
    "    def calcular_resumen(self) -> str:\n",
    "        return self.saldo-self.excepcion\n",
    "\n",
    "    def print_saldo(self) -> None:\n",
    "        print(\"Resumen\")\n",
    "        print(\"Name: \", self.get_name())\n",
    "        print(\"Saldo sin descuento: \", self.saldo)\n",
    "        print(\"Monto de la Excepcion: \", self.excepcion)\n",
    "        print(\"Resumen saldo: \", self.calcular_resumen())"
   ]
  },
  {
   "cell_type": "code",
   "execution_count": null,
   "metadata": {},
   "outputs": [],
   "source": [
    "usuario = Usuario(\"John\", 40.0, 10.0)\n",
    "usuario.print_saldo()"
   ]
  },
  {
   "cell_type": "code",
   "execution_count": null,
   "metadata": {},
   "outputs": [],
   "source": [
    "class Usuario:\n",
    "    def __init__(self, name: str, saldo: float, excepcion: float) -> None:\n",
    "        self.name: str = name\n",
    "        self.saldo: float = saldo\n",
    "        self.excepcion: float = excepcion\n",
    "\n",
    "    def get_name(self) -> str:\n",
    "        return self.name\n",
    "\n",
    "\n",
    "class Resumen:\n",
    "    def __init__(self, usuario: Usuario) -> None:\n",
    "        self.usuario: Usuario = usuario\n",
    "\n",
    "\n",
    "    def calcular_resumen(self) -> str:\n",
    "        return self.usuario.saldo-self.usuario.excepcion\n",
    "\n",
    "    def print_saldo(self) -> None:\n",
    "        print(\"Resumen\")\n",
    "        print(\"Name: \", self.usuario.get_name())\n",
    "        print(\"Saldo sin descuento: \", self.usuario.saldo)\n",
    "        print(\"Monto de la Excepcion: \", self.usuario.excepcion)\n",
    "        print(\"Resumen saldo: \", self.calcular_resumen())\n"
   ]
  }
 ],
 "metadata": {
  "language_info": {
   "name": "python"
  }
 },
 "nbformat": 4,
 "nbformat_minor": 2
}
=======
{
 "cells": [
  {
   "cell_type": "code",
   "execution_count": 3,
   "metadata": {},
   "outputs": [],
   "source": [
    "class Usuario:\n",
    "    def __init__(self, name: str, saldo: float, excepcion: float) -> None:\n",
    "        self.name: str = name\n",
    "        self.saldo: float = saldo\n",
    "        self.excepcion: float = excepcion\n",
    "\n",
    "    def get_name(self) -> str:\n",
    "        return self.name\n",
    "\n",
    "    def calcular_resumen(self) -> str:\n",
    "        return self.saldo-self.excepcion\n",
    "\n",
    "    def print_saldo(self) -> None:\n",
    "        print(\"Resumen\")\n",
    "        print(\"Name: \", self.get_name())\n",
    "        print(\"Saldo sin descuento: \", self.saldo)\n",
    "        print(\"Monto de la Excepcion: \", self.excepcion)\n",
    "        print(\"Resumen saldo: \", self.calcular_resumen())"
   ]
  },
  {
   "cell_type": "code",
   "execution_count": 4,
   "metadata": {},
   "outputs": [
    {
     "name": "stdout",
     "output_type": "stream",
     "text": [
      "Resumen\n",
      "Name:  John\n",
      "Saldo sin descuento:  40.0\n",
      "Monto de la Excepcion:  10.0\n",
      "Resumen saldo:  30.0\n"
     ]
    }
   ],
   "source": [
    "usuario = Usuario(\"John\", 40.0, 10.0)\n",
    "usuario.print_saldo()"
   ]
  },
  {
   "cell_type": "code",
   "execution_count": 5,
   "metadata": {},
   "outputs": [],
   "source": [
    "class Usuario:\n",
    "    def __init__(self, name: str, saldo: float, excepcion: float) -> None:\n",
    "        self.name: str = name\n",
    "        self.saldo: float = saldo\n",
    "        self.excepcion: float = excepcion\n",
    "\n",
    "    def get_name(self) -> str:\n",
    "        return self.name\n",
    "\n",
    "\n",
    "class Resumen:\n",
    "    def __init__(self, usuario: Usuario) -> None:\n",
    "        self.usuario: Usuario = usuario\n",
    "\n",
    "\n",
    "    def calcular_resumen(self) -> str:\n",
    "        return self.usuario.saldo-self.usuario.excepcion\n",
    "\n",
    "    def print_saldo(self) -> None:\n",
    "        print(\"Resumen\")\n",
    "        print(\"Name: \", self.usuario.get_name())\n",
    "        print(\"Saldo sin descuento: \", self.usuario.saldo)\n",
    "        print(\"Monto de la Excepcion: \", self.usuario.excepcion)\n",
    "        print(\"Resumen saldo: \", self.calcular_resumen())\n"
   ]
  },
  {
   "cell_type": "code",
   "execution_count": 6,
   "metadata": {},
   "outputs": [
    {
     "name": "stdout",
     "output_type": "stream",
     "text": [
      "Resumen\n",
      "Name:  John\n",
      "Saldo sin descuento:  40.0\n",
      "Monto de la Excepcion:  10.0\n",
      "Resumen saldo:  30.0\n"
     ]
    }
   ],
   "source": [
    "usuario = Usuario(\"John\", 40.0, 10.0)\n",
    "res=Resumen(usuario)\n",
    "res.print_saldo()"
   ]
  }
 ],
 "metadata": {
  "kernelspec": {
   "display_name": "Python 3",
   "language": "python",
   "name": "python3"
  },
  "language_info": {
   "codemirror_mode": {
    "name": "ipython",
    "version": 3
   },
   "file_extension": ".py",
   "mimetype": "text/x-python",
   "name": "python",
   "nbconvert_exporter": "python",
   "pygments_lexer": "ipython3",
   "version": "3.10.13"
  }
 },
 "nbformat": 4,
 "nbformat_minor": 2
}
>>>>>>> c4c4fbae5ea5b942f5c08f89028a6bb5672e7a07
