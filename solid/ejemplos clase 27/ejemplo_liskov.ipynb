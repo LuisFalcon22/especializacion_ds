{
 "cells": [
  {
   "cell_type": "code",
   "execution_count": null,
   "metadata": {},
   "outputs": [],
   "source": [
    "class Vehiculo:\n",
    "    def __init__(self, N_llantas:int , color:str)->None:\n",
    "     self.N_llantas = N_llantas\n",
    "     self.color=color\n",
    "\n",
    "    def avanzar(self,velocidad='lento')->int:\n",
    "     if velocidad == 'lento':\n",
    "        return 60\n",
    "     elif velocidad == 'rapida':\n",
    "        return 200"
   ]
  },
  {
   "cell_type": "code",
   "execution_count": null,
   "metadata": {},
   "outputs": [],
   "source": [
    "class Movimiento:\n",
    "    def __init__(self, vehi: Vehiculo) -> None:\n",
    "        self.vehi = vehi\n",
    "\n",
    "    def tipo_de_movimiento(self, velocidad: str) -> int:\n",
    "        return self.vehi.avanzar(velocidad=velocidad)"
   ]
  },
  {
   "cell_type": "code",
   "execution_count": null,
   "metadata": {},
   "outputs": [],
   "source": [
    "carro= Vehiculo(N_llantas=4,color='rojo')\n",
    "terrestre=Movimiento( vehi=carro)\n",
    "print(terrestre.tipo_de_movimiento(velocidad='lento'))"
   ]
  },
  {
   "cell_type": "code",
   "execution_count": null,
   "metadata": {},
   "outputs": [],
   "source": [
    "class jet(Vehiculo):\n",
    "    def __init__(self, N_llantas: int, color: str) -> None:\n",
    "        super().__init__(N_llantas, color)\n",
    "    def avanzar(self,velocidad='lento')->int:\n",
    "     if velocidad == 'lento':\n",
    "        return 60\n",
    "     elif velocidad == 'medio_lento':\n",
    "        return 80\n",
    "     elif velocidad == 'rapida':\n",
    "        return 200\n"
   ]
  },
  {
   "cell_type": "code",
   "execution_count": null,
   "metadata": {},
   "outputs": [],
   "source": [
    "jet1=jet(N_llantas=3,color='gris')\n",
    "aereo=Movimiento(vehi=jet1)\n",
    "print(aereo.tipo_de_movimiento(velocidad='rapida'))"
   ]
  }
 ],
 "metadata": {
  "language_info": {
   "name": "python"
  }
 },
 "nbformat": 4,
 "nbformat_minor": 2
}
