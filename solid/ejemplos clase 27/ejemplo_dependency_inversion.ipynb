{
 "cells": [
  {
   "cell_type": "code",
   "execution_count": null,
   "metadata": {},
   "outputs": [],
   "source": []
  },
  {
   "cell_type": "code",
   "execution_count": 3,
   "metadata": {},
   "outputs": [
    {
     "name": "stdout",
     "output_type": "stream",
     "text": [
      "Procesando: Leyendo desde un archivo.\n",
      "Procesando: Leyendo desde la base de datos.\n"
     ]
    }
   ],
   "source": [
    "from abc import ABC, abstractmethod\n",
    "\n",
    "# Definimos una interfaz abstracta para el lector\n",
    "class Lector(ABC):\n",
    "    @abstractmethod\n",
    "    def leer(self):\n",
    "        pass\n",
    "\n",
    "# Implementación concreta de un lector de archivos\n",
    "class LectorArchivo(Lector):\n",
    "    def leer(self):\n",
    "        return \"Leyendo desde un archivo.\"\n",
    "\n",
    "# Implementación concreta de un lector de base de datos\n",
    "class LectorBaseDeDatos(Lector):\n",
    "    def leer(self):\n",
    "        return \"Leyendo desde la base de datos.\"\n",
    "\n",
    "# Clase de alto nivel que depende de la abstracción (interfaz) Lector\n",
    "class ProcesadorDatos:\n",
    "    def __init__(self, lector):\n",
    "        self.lector = lector\n",
    "\n",
    "    def procesar(self):\n",
    "        data = self.lector.leer()\n",
    "        # Realizar algún procesamiento de datos\n",
    "        print(\"Procesando:\", data)\n",
    "\n",
    "# Uso del ProcesadorDatos con un LectorArchivo\n",
    "lector_archivo = LectorArchivo()\n",
    "procesador_archivo = ProcesadorDatos(lector_archivo)\n",
    "procesador_archivo.procesar()\n",
    "\n",
    "# Uso del ProcesadorDatos con un LectorBaseDeDatos\n",
    "lector_bd = LectorBaseDeDatos()\n",
    "procesador_bd = ProcesadorDatos(lector_bd)\n",
    "procesador_bd.procesar()"
   ]
  }
 ],
 "metadata": {
  "kernelspec": {
   "display_name": "Python 3",
   "language": "python",
   "name": "python3"
  },
  "language_info": {
   "codemirror_mode": {
    "name": "ipython",
    "version": 3
   },
   "file_extension": ".py",
   "mimetype": "text/x-python",
   "name": "python",
   "nbconvert_exporter": "python",
   "pygments_lexer": "ipython3",
   "version": "3.10.13"
  }
 },
 "nbformat": 4,
 "nbformat_minor": 2
}
