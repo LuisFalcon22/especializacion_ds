{
 "cells": [
  {
   "cell_type": "code",
   "execution_count": null,
   "metadata": {},
   "outputs": [],
   "source": [
    "class Pago:\n",
    "    def __init__(self, tipo_de_pago:str, items: list) -> None:\n",
    "        self.tipo_de_pago: str =tipo_de_pago\n",
    "        self.items: list =items\n",
    "\n",
    "    def get_total(self) -> float:\n",
    "        total = sum([item[\"precio\"] for item in self.items])\n",
    "        return total\n",
    "\n",
    "\n",
    "    def get_costo_de_pago(self)->float:\n",
    "        if self.tipo_de_pago == \"linea\":\n",
    "            return 0\n",
    "\n",
    "        elif self.tipo_de_pago == \"corresponsal\":\n",
    "            return 5000 +  self.get_total()\n",
    "        return 0\n"
   ]
  },
  {
   "cell_type": "code",
   "execution_count": null,
   "metadata": {},
   "outputs": [],
   "source": [
    "data_order: dict = [{\"precio\": 10}]\n",
    "pago: Pago = Pago(tipo_de_pago=\"corresponsal\",items=data_order)\n",
    "print(\"Monto: \", pago.get_total())\n",
    "print(\"Costo de Pago: \", pago.get_costo_de_pago())"
   ]
  },
  {
   "cell_type": "code",
   "execution_count": null,
   "metadata": {},
   "outputs": [],
   "source": [
    "from abc import ABC, abstractmethod"
   ]
  }
 ],
 "metadata": {
  "language_info": {
   "name": "python"
  }
 },
 "nbformat": 4,
 "nbformat_minor": 2
}
