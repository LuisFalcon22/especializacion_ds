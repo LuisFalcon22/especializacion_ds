{
 "cells": [
  {
   "cell_type": "code",
   "execution_count": 1,
   "metadata": {},
   "outputs": [],
   "source": [
    "class Pago:\n",
    "    def __init__(self, tipo_de_pago:str, items: list) -> None:\n",
    "        self.tipo_de_pago: str =tipo_de_pago\n",
    "        self.items: list =items\n",
    "\n",
    "    def get_total(self) -> float:\n",
    "        total = sum([item[\"precio\"] for item in self.items])\n",
    "        return total\n",
    "\n",
    "\n",
    "    def get_costo_de_pago(self)->float:\n",
    "        if self.tipo_de_pago == \"linea\":\n",
    "            return 0\n",
    "\n",
    "        elif self.tipo_de_pago == \"corresponsal\":\n",
    "            return 5000 +  self.get_total()\n",
    "        return 0\n"
   ]
  },
  {
   "cell_type": "code",
   "execution_count": 2,
   "metadata": {},
   "outputs": [
    {
     "name": "stdout",
     "output_type": "stream",
     "text": [
      "Monto:  10\n",
      "Costo de Pago:  5010\n"
     ]
    }
   ],
   "source": [
    "data_order: dict = [{\"precio\": 10}]\n",
    "pago: Pago = Pago(tipo_de_pago=\"corresponsal\",items=data_order)\n",
    "print(\"Monto: \", pago.get_total())\n",
    "print(\"Costo de Pago: \", pago.get_costo_de_pago())"
   ]
  },
  {
   "cell_type": "code",
   "execution_count": 3,
   "metadata": {},
   "outputs": [],
   "source": [
    "from abc import ABC, abstractmethod\n",
    "\n",
    "class Tipo_de_Pago(ABC):\n",
    "    @abstractmethod\n",
    "    def get_cost(self, pago: Pago) -> float:\n",
    "        pass\n",
    "\n",
    "class Pago_en_linea(Tipo_de_Pago):\n",
    "    def get_cost(self, pago :Pago) -> float:\n",
    "      return pago.get_costo_de_pago\n",
    "\n",
    "class Pago_en_corresponsal(Tipo_de_Pago):\n",
    "    def get_cost(self, pago :Pago) -> float:\n",
    "            return 5000.0 +  pago.get_costo_de_pago\n",
    "\n",
    "\n",
    "class Pago:\n",
    "    def __init__(self, tipo_de_pago:Tipo_de_Pago, items: list) -> None:\n",
    "        self.tipo_de_pago: Tipo_de_Pago =tipo_de_pago\n",
    "        self.items: list =items\n",
    "\n",
    "    def get_total(self) -> float:\n",
    "        total = sum([item[\"precio\"] for item in self.items])\n",
    "        return total\n",
    "\n",
    "    def get_costo_de_pago(self)->float:\n",
    "        return self.tipo_de_pago.get_cost(self)\n"
   ]
  },
  {
   "cell_type": "code",
   "execution_count": 4,
   "metadata": {},
   "outputs": [
    {
     "name": "stdout",
     "output_type": "stream",
     "text": [
      "Monto:  10.0\n",
      "Costo de Pago:  <bound method Pago.get_costo_de_pago of <__main__.Pago object at 0x7f75b7d34130>>\n"
     ]
    }
   ],
   "source": [
    "data_order: dict = [{\"precio\": 10.0}]\n",
    "pago: Pago = Pago(tipo_de_pago= Pago_en_linea() ,items=data_order)\n",
    "print(\"Monto: \", pago.get_total())\n",
    "print(\"Costo de Pago: \", pago.get_costo_de_pago())"
   ]
  }
 ],
 "metadata": {
  "kernelspec": {
   "display_name": "Python 3",
   "language": "python",
   "name": "python3"
  },
  "language_info": {
   "codemirror_mode": {
    "name": "ipython",
    "version": 3
   },
   "file_extension": ".py",
   "mimetype": "text/x-python",
   "name": "python",
   "nbconvert_exporter": "python",
   "pygments_lexer": "ipython3",
   "version": "3.10.13"
  }
 },
 "nbformat": 4,
 "nbformat_minor": 2
}
